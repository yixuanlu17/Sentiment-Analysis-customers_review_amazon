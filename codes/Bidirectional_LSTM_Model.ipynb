{
  "nbformat": 4,
  "nbformat_minor": 0,
  "metadata": {
    "colab": {
      "name": "Bidirectional LSTM Model.ipynb",
      "provenance": [],
      "toc_visible": true
    },
    "kernelspec": {
      "name": "python3",
      "display_name": "Python 3"
    },
    "language_info": {
      "name": "python"
    }
  },
  "cells": [
    {
      "cell_type": "markdown",
      "metadata": {
        "id": "lGeJbkSBAd7k"
      },
      "source": [
        "# Bidirectional LSTM Model"
      ]
    },
    {
      "cell_type": "code",
      "metadata": {
        "colab": {
          "base_uri": "https://localhost:8080/"
        },
        "id": "A4omxvFUAXyb",
        "outputId": "8ff1aed1-e2c1-4989-a6d9-2c69bb7088f0"
      },
      "source": [
        "# connect to google drive\n",
        "from google.colab import drive\n",
        "drive.mount('/content/drive')"
      ],
      "execution_count": 2,
      "outputs": [
        {
          "output_type": "stream",
          "text": [
            "Mounted at /content/drive\n"
          ],
          "name": "stdout"
        }
      ]
    },
    {
      "cell_type": "code",
      "metadata": {
        "id": "zAJuyh07BEgt"
      },
      "source": [
        "# import the packages that will be used\n",
        "import numpy as np \n",
        "import pandas as pd \n",
        "import tensorflow as tf\n",
        "import tensorflow_datasets as tfds\n",
        "from tensorflow.keras.preprocessing.sequence import pad_sequences\n",
        "import matplotlib.pyplot as plt"
      ],
      "execution_count": 35,
      "outputs": []
    },
    {
      "cell_type": "code",
      "metadata": {
        "id": "OHBTu8YgBpLN"
      },
      "source": [
        "# load amazon dataset\n",
        "amazon_df=pd.read_csv(\"/content/drive/MyDrive/Henkel/Code+paper/sentiment labelled sentences/amazon_cells_labelled.txt\",delimiter='\\t',\n",
        "                        header=None, \n",
        "                        names=['review', 'sentiment'])"
      ],
      "execution_count": 3,
      "outputs": []
    },
    {
      "cell_type": "code",
      "metadata": {
        "colab": {
          "base_uri": "https://localhost:8080/",
          "height": 204
        },
        "id": "7BXJ3SDaBq09",
        "outputId": "26ee1eea-bc4b-49df-c87f-0daeacbd313c"
      },
      "source": [
        "amazon_df.head(5)"
      ],
      "execution_count": 4,
      "outputs": [
        {
          "output_type": "execute_result",
          "data": {
            "text/html": [
              "<div>\n",
              "<style scoped>\n",
              "    .dataframe tbody tr th:only-of-type {\n",
              "        vertical-align: middle;\n",
              "    }\n",
              "\n",
              "    .dataframe tbody tr th {\n",
              "        vertical-align: top;\n",
              "    }\n",
              "\n",
              "    .dataframe thead th {\n",
              "        text-align: right;\n",
              "    }\n",
              "</style>\n",
              "<table border=\"1\" class=\"dataframe\">\n",
              "  <thead>\n",
              "    <tr style=\"text-align: right;\">\n",
              "      <th></th>\n",
              "      <th>review</th>\n",
              "      <th>sentiment</th>\n",
              "    </tr>\n",
              "  </thead>\n",
              "  <tbody>\n",
              "    <tr>\n",
              "      <th>0</th>\n",
              "      <td>So there is no way for me to plug it in here i...</td>\n",
              "      <td>0</td>\n",
              "    </tr>\n",
              "    <tr>\n",
              "      <th>1</th>\n",
              "      <td>Good case, Excellent value.</td>\n",
              "      <td>1</td>\n",
              "    </tr>\n",
              "    <tr>\n",
              "      <th>2</th>\n",
              "      <td>Great for the jawbone.</td>\n",
              "      <td>1</td>\n",
              "    </tr>\n",
              "    <tr>\n",
              "      <th>3</th>\n",
              "      <td>Tied to charger for conversations lasting more...</td>\n",
              "      <td>0</td>\n",
              "    </tr>\n",
              "    <tr>\n",
              "      <th>4</th>\n",
              "      <td>The mic is great.</td>\n",
              "      <td>1</td>\n",
              "    </tr>\n",
              "  </tbody>\n",
              "</table>\n",
              "</div>"
            ],
            "text/plain": [
              "                                              review  sentiment\n",
              "0  So there is no way for me to plug it in here i...          0\n",
              "1                        Good case, Excellent value.          1\n",
              "2                             Great for the jawbone.          1\n",
              "3  Tied to charger for conversations lasting more...          0\n",
              "4                                  The mic is great.          1"
            ]
          },
          "metadata": {
            "tags": []
          },
          "execution_count": 4
        }
      ]
    },
    {
      "cell_type": "code",
      "metadata": {
        "id": "-qvJOlyLBvqs"
      },
      "source": [
        "# load imdb dataset\n",
        "imdb_df = pd.read_csv(\"/content/drive/MyDrive/Henkel/Code+paper/sentiment labelled sentences/imdb_labelled.txt\", \n",
        "                        delimiter='\\t', \n",
        "                        header=None, \n",
        "                        names=['review', 'sentiment'])"
      ],
      "execution_count": 7,
      "outputs": []
    },
    {
      "cell_type": "code",
      "metadata": {
        "colab": {
          "base_uri": "https://localhost:8080/",
          "height": 204
        },
        "id": "aCMqysOmBwzE",
        "outputId": "832bdfe0-5fe0-4b17-a5d7-63d7cdb5710a"
      },
      "source": [
        "imdb_df.head(5)"
      ],
      "execution_count": 6,
      "outputs": [
        {
          "output_type": "execute_result",
          "data": {
            "text/html": [
              "<div>\n",
              "<style scoped>\n",
              "    .dataframe tbody tr th:only-of-type {\n",
              "        vertical-align: middle;\n",
              "    }\n",
              "\n",
              "    .dataframe tbody tr th {\n",
              "        vertical-align: top;\n",
              "    }\n",
              "\n",
              "    .dataframe thead th {\n",
              "        text-align: right;\n",
              "    }\n",
              "</style>\n",
              "<table border=\"1\" class=\"dataframe\">\n",
              "  <thead>\n",
              "    <tr style=\"text-align: right;\">\n",
              "      <th></th>\n",
              "      <th>review</th>\n",
              "      <th>sentiment</th>\n",
              "    </tr>\n",
              "  </thead>\n",
              "  <tbody>\n",
              "    <tr>\n",
              "      <th>0</th>\n",
              "      <td>A very, very, very slow-moving, aimless movie ...</td>\n",
              "      <td>0</td>\n",
              "    </tr>\n",
              "    <tr>\n",
              "      <th>1</th>\n",
              "      <td>Not sure who was more lost - the flat characte...</td>\n",
              "      <td>0</td>\n",
              "    </tr>\n",
              "    <tr>\n",
              "      <th>2</th>\n",
              "      <td>Attempting artiness with black &amp; white and cle...</td>\n",
              "      <td>0</td>\n",
              "    </tr>\n",
              "    <tr>\n",
              "      <th>3</th>\n",
              "      <td>Very little music or anything to speak of.</td>\n",
              "      <td>0</td>\n",
              "    </tr>\n",
              "    <tr>\n",
              "      <th>4</th>\n",
              "      <td>The best scene in the movie was when Gerardo i...</td>\n",
              "      <td>1</td>\n",
              "    </tr>\n",
              "  </tbody>\n",
              "</table>\n",
              "</div>"
            ],
            "text/plain": [
              "                                              review  sentiment\n",
              "0  A very, very, very slow-moving, aimless movie ...          0\n",
              "1  Not sure who was more lost - the flat characte...          0\n",
              "2  Attempting artiness with black & white and cle...          0\n",
              "3       Very little music or anything to speak of.            0\n",
              "4  The best scene in the movie was when Gerardo i...          1"
            ]
          },
          "metadata": {
            "tags": []
          },
          "execution_count": 6
        }
      ]
    },
    {
      "cell_type": "code",
      "metadata": {
        "id": "WxmH4ZxXBQ-X"
      },
      "source": [
        "# load yelp dataset\n",
        "yelp_df = pd.read_csv(\"/content/drive/MyDrive/Henkel/Code+paper/sentiment labelled sentences/yelp_labelled.txt\", \n",
        "                        delimiter='\\t', \n",
        "                        header=None, \n",
        "                        names=['review', 'sentiment'])"
      ],
      "execution_count": 9,
      "outputs": []
    },
    {
      "cell_type": "code",
      "metadata": {
        "colab": {
          "base_uri": "https://localhost:8080/",
          "height": 204
        },
        "id": "ZGXvcFJPB6rj",
        "outputId": "82c08a65-2797-4faa-fdcd-1d6a632e52a7"
      },
      "source": [
        "yelp_df.head(5)"
      ],
      "execution_count": 10,
      "outputs": [
        {
          "output_type": "execute_result",
          "data": {
            "text/html": [
              "<div>\n",
              "<style scoped>\n",
              "    .dataframe tbody tr th:only-of-type {\n",
              "        vertical-align: middle;\n",
              "    }\n",
              "\n",
              "    .dataframe tbody tr th {\n",
              "        vertical-align: top;\n",
              "    }\n",
              "\n",
              "    .dataframe thead th {\n",
              "        text-align: right;\n",
              "    }\n",
              "</style>\n",
              "<table border=\"1\" class=\"dataframe\">\n",
              "  <thead>\n",
              "    <tr style=\"text-align: right;\">\n",
              "      <th></th>\n",
              "      <th>review</th>\n",
              "      <th>sentiment</th>\n",
              "    </tr>\n",
              "  </thead>\n",
              "  <tbody>\n",
              "    <tr>\n",
              "      <th>0</th>\n",
              "      <td>Wow... Loved this place.</td>\n",
              "      <td>1</td>\n",
              "    </tr>\n",
              "    <tr>\n",
              "      <th>1</th>\n",
              "      <td>Crust is not good.</td>\n",
              "      <td>0</td>\n",
              "    </tr>\n",
              "    <tr>\n",
              "      <th>2</th>\n",
              "      <td>Not tasty and the texture was just nasty.</td>\n",
              "      <td>0</td>\n",
              "    </tr>\n",
              "    <tr>\n",
              "      <th>3</th>\n",
              "      <td>Stopped by during the late May bank holiday of...</td>\n",
              "      <td>1</td>\n",
              "    </tr>\n",
              "    <tr>\n",
              "      <th>4</th>\n",
              "      <td>The selection on the menu was great and so wer...</td>\n",
              "      <td>1</td>\n",
              "    </tr>\n",
              "  </tbody>\n",
              "</table>\n",
              "</div>"
            ],
            "text/plain": [
              "                                              review  sentiment\n",
              "0                           Wow... Loved this place.          1\n",
              "1                                 Crust is not good.          0\n",
              "2          Not tasty and the texture was just nasty.          0\n",
              "3  Stopped by during the late May bank holiday of...          1\n",
              "4  The selection on the menu was great and so wer...          1"
            ]
          },
          "metadata": {
            "tags": []
          },
          "execution_count": 10
        }
      ]
    },
    {
      "cell_type": "code",
      "metadata": {
        "id": "_My4l8HKCRDX"
      },
      "source": [
        "#merge datasets\n",
        "df=pd.concat([amazon_df,yelp_df,imdb_df])"
      ],
      "execution_count": 13,
      "outputs": []
    },
    {
      "cell_type": "code",
      "metadata": {
        "colab": {
          "base_uri": "https://localhost:8080/",
          "height": 204
        },
        "id": "60uJ9mQvCcI8",
        "outputId": "df911d11-a3f0-4e4a-dc2b-30c8c7c29087"
      },
      "source": [
        "df.reset_index(drop='True',inplace=True)\n",
        "df.head(5)"
      ],
      "execution_count": 14,
      "outputs": [
        {
          "output_type": "execute_result",
          "data": {
            "text/html": [
              "<div>\n",
              "<style scoped>\n",
              "    .dataframe tbody tr th:only-of-type {\n",
              "        vertical-align: middle;\n",
              "    }\n",
              "\n",
              "    .dataframe tbody tr th {\n",
              "        vertical-align: top;\n",
              "    }\n",
              "\n",
              "    .dataframe thead th {\n",
              "        text-align: right;\n",
              "    }\n",
              "</style>\n",
              "<table border=\"1\" class=\"dataframe\">\n",
              "  <thead>\n",
              "    <tr style=\"text-align: right;\">\n",
              "      <th></th>\n",
              "      <th>review</th>\n",
              "      <th>sentiment</th>\n",
              "    </tr>\n",
              "  </thead>\n",
              "  <tbody>\n",
              "    <tr>\n",
              "      <th>0</th>\n",
              "      <td>So there is no way for me to plug it in here i...</td>\n",
              "      <td>0</td>\n",
              "    </tr>\n",
              "    <tr>\n",
              "      <th>1</th>\n",
              "      <td>Good case, Excellent value.</td>\n",
              "      <td>1</td>\n",
              "    </tr>\n",
              "    <tr>\n",
              "      <th>2</th>\n",
              "      <td>Great for the jawbone.</td>\n",
              "      <td>1</td>\n",
              "    </tr>\n",
              "    <tr>\n",
              "      <th>3</th>\n",
              "      <td>Tied to charger for conversations lasting more...</td>\n",
              "      <td>0</td>\n",
              "    </tr>\n",
              "    <tr>\n",
              "      <th>4</th>\n",
              "      <td>The mic is great.</td>\n",
              "      <td>1</td>\n",
              "    </tr>\n",
              "  </tbody>\n",
              "</table>\n",
              "</div>"
            ],
            "text/plain": [
              "                                              review  sentiment\n",
              "0  So there is no way for me to plug it in here i...          0\n",
              "1                        Good case, Excellent value.          1\n",
              "2                             Great for the jawbone.          1\n",
              "3  Tied to charger for conversations lasting more...          0\n",
              "4                                  The mic is great.          1"
            ]
          },
          "metadata": {
            "tags": []
          },
          "execution_count": 14
        }
      ]
    },
    {
      "cell_type": "code",
      "metadata": {
        "colab": {
          "base_uri": "https://localhost:8080/"
        },
        "id": "jjjQqs1IDYJH",
        "outputId": "3e8dffde-618b-4602-f40e-e70b2dc1a321"
      },
      "source": [
        "#check the shape\n",
        "df.shape"
      ],
      "execution_count": 15,
      "outputs": [
        {
          "output_type": "execute_result",
          "data": {
            "text/plain": [
              "(2748, 2)"
            ]
          },
          "metadata": {
            "tags": []
          },
          "execution_count": 15
        }
      ]
    },
    {
      "cell_type": "code",
      "metadata": {
        "id": "nhE7R_T0JZ6D"
      },
      "source": [
        "#Extracting Reviews and Sentiments\n",
        "sentences=data['review'].tolist()\n",
        "label=data['sentiment'].tolist()"
      ],
      "execution_count": 16,
      "outputs": []
    },
    {
      "cell_type": "code",
      "metadata": {
        "colab": {
          "base_uri": "https://localhost:8080/"
        },
        "id": "687PV_XxJhbK",
        "outputId": "2b3b8f04-0752-4338-e084-155b3e194316"
      },
      "source": [
        "# print examples of sentences and labels\n",
        "print(\"Sentences\")\n",
        "for i in range(10):\n",
        "    #print(sentences[i],end=\"\\n\")\n",
        "    print(\"{} {}\".format(sentences[i],label[i]))"
      ],
      "execution_count": 17,
      "outputs": [
        {
          "output_type": "stream",
          "text": [
            "Sentences\n",
            "So there is no way for me to plug it in here in the US unless I go by a converter. 0\n",
            "Good case, Excellent value. 1\n",
            "Great for the jawbone. 1\n",
            "Tied to charger for conversations lasting more than 45 minutes.MAJOR PROBLEMS!! 0\n",
            "The mic is great. 1\n",
            "I have to jiggle the plug to get it to line up right to get decent volume. 0\n",
            "If you have several dozen or several hundred contacts, then imagine the fun of sending each of them one by one. 0\n",
            "If you are Razr owner...you must have this! 1\n",
            "Needless to say, I wasted my money. 0\n",
            "What a waste of money and time!. 0\n"
          ],
          "name": "stdout"
        }
      ]
    },
    {
      "cell_type": "code",
      "metadata": {
        "id": "pK6bP0t1MVmN"
      },
      "source": [
        "#Create A Subword Datasets\n",
        "vocab_size=1000\n",
        "tokenizer=tfds.deprecated.text.SubwordTextEncoder.build_from_corpus(sentences,vocab_size,max_subword_length=5)"
      ],
      "execution_count": 24,
      "outputs": []
    },
    {
      "cell_type": "code",
      "metadata": {
        "colab": {
          "base_uri": "https://localhost:8080/"
        },
        "id": "3qCBdnfkNAUa",
        "outputId": "7668bc2b-e8be-4d8f-cc76-088313d59156"
      },
      "source": [
        "print(\"vocab size is\",vocab_size)\n",
        "\n",
        "#check the tokenizer words\n",
        "num=1\n",
        "print(sentences[num])\n",
        "encoded_sentence=tokenizer.encode(sentences[num])\n",
        "print(encoded_sentence)"
      ],
      "execution_count": 25,
      "outputs": [
        {
          "output_type": "stream",
          "text": [
            "vocab size is 1000\n",
            "Good case, Excellent value.\n",
            "[586, 485, 534, 2, 811, 862, 514, 678, 428, 165, 843, 788]\n"
          ],
          "name": "stdout"
        }
      ]
    },
    {
      "cell_type": "code",
      "metadata": {
        "colab": {
          "base_uri": "https://localhost:8080/"
        },
        "id": "16taWhtJNFZh",
        "outputId": "ef3188bb-7497-438f-8592-56adbf8cebea"
      },
      "source": [
        "for i in encoded_sentence:\n",
        "    print(tokenizer.decode([i]))"
      ],
      "execution_count": 26,
      "outputs": [
        {
          "output_type": "stream",
          "text": [
            "Go\n",
            "od \n",
            "case\n",
            ", \n",
            "E\n",
            "x\n",
            "cell\n",
            "ent \n",
            "va\n",
            "lu\n",
            "e\n",
            ".\n"
          ],
          "name": "stdout"
        }
      ]
    },
    {
      "cell_type": "markdown",
      "metadata": {
        "id": "WDhImd-XNNj-"
      },
      "source": [
        "## Create sequences for training by encoding each individual sentence"
      ]
    },
    {
      "cell_type": "code",
      "metadata": {
        "colab": {
          "base_uri": "https://localhost:8080/"
        },
        "id": "pkGla0XSNMU0",
        "outputId": "6a4e62b3-0649-4ab5-9ba8-b44478ad53fd"
      },
      "source": [
        "#This is equivalent to text_to_sequences with the Tokenizer\n",
        "for i,sent in enumerate(sentences):\n",
        "    sentences[i]=tokenizer.encode(sent)\n",
        "\n",
        "#print some encoded text\n",
        "for i in range(10):\n",
        "    print(sentences[i],end=\"\\n\")"
      ],
      "execution_count": 27,
      "outputs": [
        {
          "output_type": "stream",
          "text": [
            "[346, 774, 164, 774, 7, 217, 539, 23, 141, 9, 854, 165, 36, 18, 19, 281, 19, 1, 827, 825, 774, 56, 488, 6, 292, 192, 5, 119, 124, 236, 788]\n",
            "[586, 485, 534, 2, 811, 862, 514, 678, 428, 165, 843, 788]\n",
            "[305, 774, 23, 1, 848, 219, 104, 49, 788]\n",
            "[826, 239, 14, 9, 344, 93, 23, 119, 124, 65, 405, 3, 47, 110, 20, 271, 215, 794, 738, 505, 126, 788, 819, 807, 816, 821, 824, 774, 822, 824, 821, 808, 818, 811, 819, 825, 740]\n",
            "[15, 384, 362, 7, 51, 788]\n",
            "[6, 43, 9, 848, 259, 415, 17, 1, 854, 165, 36, 9, 226, 18, 9, 604, 774, 254, 569, 774, 9, 226, 55, 37, 145, 152, 165, 111, 788]\n",
            "[373, 48, 43, 39, 686, 52, 310, 500, 30, 105, 39, 686, 52, 394, 218, 298, 774, 533, 173, 857, 2, 689, 774, 205, 559, 459, 774, 1, 395, 774, 12, 692, 629, 774, 177, 250, 12, 668, 63, 192, 527, 788]\n",
            "[373, 48, 41, 824, 839, 864, 25, 671, 84, 640, 48, 437, 8, 43, 544, 857, 775]\n",
            "[820, 240, 842, 488, 9, 65, 863, 2, 6, 480, 14, 32, 674, 788]\n",
            "[423, 54, 5, 480, 774, 12, 674, 774, 4, 184, 611]\n"
          ],
          "name": "stdout"
        }
      ]
    },
    {
      "cell_type": "code",
      "metadata": {
        "id": "ntmNMlMHNoNg"
      },
      "source": [
        "# each Sentence have different encoded Length \n",
        "# sequence need to be paded to make the length of all sentences same\n",
        "\n",
        "max_length =50\n",
        "trunc_type='post'\n",
        "padding_type='post'\n",
        "\n",
        "#pad all Sequence\n",
        "\n",
        "sequence_added=pad_sequences(sentences,maxlen=max_length,padding =padding_type,truncating=trunc_type)"
      ],
      "execution_count": 28,
      "outputs": []
    },
    {
      "cell_type": "code",
      "metadata": {
        "colab": {
          "base_uri": "https://localhost:8080/"
        },
        "id": "GX5tD9isN9WI",
        "outputId": "4006e7e8-350c-4a1f-902a-47c43dd6b772"
      },
      "source": [
        "#check\n",
        "sequence_added"
      ],
      "execution_count": 29,
      "outputs": [
        {
          "output_type": "execute_result",
          "data": {
            "text/plain": [
              "array([[346, 774, 164, ...,   0,   0,   0],\n",
              "       [586, 485, 534, ...,   0,   0,   0],\n",
              "       [305, 774,  23, ...,   0,   0,   0],\n",
              "       ...,\n",
              "       [636, 774,   5, ...,   0,   0,   0],\n",
              "       [811, 862,  37, ...,   0,   0,   0],\n",
              "       [337,  52,  19, ...,   0,   0,   0]], dtype=int32)"
            ]
          },
          "metadata": {
            "tags": []
          },
          "execution_count": 29
        }
      ]
    },
    {
      "cell_type": "code",
      "metadata": {
        "id": "DNudq-4QN-5t"
      },
      "source": [
        "# split the data sets into training and test data\n",
        "\n",
        "training_size=int(len(sentences)*0.8)\n",
        "train_seq=sequence_added[:training_size]\n",
        "train_labels=label[:training_size]\n",
        "\n",
        "test_seq=sequence_added[training_size:]\n",
        "test_labels=label[training_size:]\n",
        "\n",
        "train_labels=np.array(train_labels)\n",
        "test_labels=np.array(test_labels)"
      ],
      "execution_count": 30,
      "outputs": []
    },
    {
      "cell_type": "code",
      "metadata": {
        "colab": {
          "base_uri": "https://localhost:8080/"
        },
        "id": "XERiwgyTOPKm",
        "outputId": "30616ffc-accf-42e6-d2ce-33097c965fbd"
      },
      "source": [
        "print(\"Total Training Sequence are\",len(train_seq))\n",
        "print(\"Total Test Sequence are\",len(test_seq))"
      ],
      "execution_count": 31,
      "outputs": [
        {
          "output_type": "stream",
          "text": [
            "Total Training Sequence are 2198\n",
            "Total Test Sequence are 550\n"
          ],
          "name": "stdout"
        }
      ]
    },
    {
      "cell_type": "markdown",
      "metadata": {
        "id": "AhqJ-b39OU9b"
      },
      "source": [
        "## Bulding Bidirectional LSTM Model"
      ]
    },
    {
      "cell_type": "code",
      "metadata": {
        "id": "IpluuRt_OUpG"
      },
      "source": [
        "#Create a Model\n",
        "embedding_dim=16\n",
        "model=tf.keras.Sequential([\n",
        "    tf.keras.layers.Embedding(vocab_size,embedding_dim,input_length=max_length),\n",
        "    tf.keras.layers.Bidirectional(tf.keras.layers.LSTM(embedding_dim,return_sequences=True)),\n",
        "    tf.keras.layers.Bidirectional(tf.keras.layers.LSTM(embedding_dim)),\n",
        "    tf.keras.layers.Dense(6,activation='relu'),\n",
        "    tf.keras.layers.Dense(1,activation='sigmoid')\n",
        "])"
      ],
      "execution_count": 32,
      "outputs": []
    },
    {
      "cell_type": "code",
      "metadata": {
        "colab": {
          "base_uri": "https://localhost:8080/"
        },
        "id": "0HSx9i9nOSdo",
        "outputId": "3bdf3e29-7a8f-4689-d0bd-8fc0d8d5e9ff"
      },
      "source": [
        "#fit a model\n",
        "model.compile(loss=\"binary_crossentropy\",optimizer='adam',metrics=['accuracy'])\n",
        "model.summary()"
      ],
      "execution_count": 33,
      "outputs": [
        {
          "output_type": "stream",
          "text": [
            "Model: \"sequential\"\n",
            "_________________________________________________________________\n",
            "Layer (type)                 Output Shape              Param #   \n",
            "=================================================================\n",
            "embedding (Embedding)        (None, 50, 16)            16000     \n",
            "_________________________________________________________________\n",
            "bidirectional (Bidirectional (None, 50, 32)            4224      \n",
            "_________________________________________________________________\n",
            "bidirectional_1 (Bidirection (None, 32)                6272      \n",
            "_________________________________________________________________\n",
            "dense (Dense)                (None, 6)                 198       \n",
            "_________________________________________________________________\n",
            "dense_1 (Dense)              (None, 1)                 7         \n",
            "=================================================================\n",
            "Total params: 26,701\n",
            "Trainable params: 26,701\n",
            "Non-trainable params: 0\n",
            "_________________________________________________________________\n"
          ],
          "name": "stdout"
        }
      ]
    },
    {
      "cell_type": "code",
      "metadata": {
        "colab": {
          "base_uri": "https://localhost:8080/"
        },
        "id": "tYJr6Mg5Oew0",
        "outputId": "399dd25b-0ada-4584-d55f-2ae0fc62f3fe"
      },
      "source": [
        "history=model.fit(train_seq,train_labels,epochs=50,validation_data=(test_seq,test_labels))"
      ],
      "execution_count": 34,
      "outputs": [
        {
          "output_type": "stream",
          "text": [
            "Epoch 1/50\n",
            "69/69 [==============================] - 11s 71ms/step - loss: 0.6905 - accuracy: 0.5323 - val_loss: 0.6833 - val_accuracy: 0.5855\n",
            "Epoch 2/50\n",
            "69/69 [==============================] - 4s 51ms/step - loss: 0.5987 - accuracy: 0.7402 - val_loss: 0.6514 - val_accuracy: 0.6073\n",
            "Epoch 3/50\n",
            "69/69 [==============================] - 4s 51ms/step - loss: 0.5299 - accuracy: 0.8016 - val_loss: 0.6707 - val_accuracy: 0.6273\n",
            "Epoch 4/50\n",
            "69/69 [==============================] - 4s 51ms/step - loss: 0.4733 - accuracy: 0.8476 - val_loss: 0.6504 - val_accuracy: 0.6127\n",
            "Epoch 5/50\n",
            "69/69 [==============================] - 4s 51ms/step - loss: 0.4317 - accuracy: 0.8753 - val_loss: 0.6490 - val_accuracy: 0.6364\n",
            "Epoch 6/50\n",
            "69/69 [==============================] - 4s 52ms/step - loss: 0.4004 - accuracy: 0.8908 - val_loss: 0.7820 - val_accuracy: 0.6127\n",
            "Epoch 7/50\n",
            "69/69 [==============================] - 4s 54ms/step - loss: 0.3736 - accuracy: 0.8963 - val_loss: 0.7632 - val_accuracy: 0.6218\n",
            "Epoch 8/50\n",
            "69/69 [==============================] - 4s 51ms/step - loss: 0.3682 - accuracy: 0.8967 - val_loss: 0.7785 - val_accuracy: 0.6309\n",
            "Epoch 9/50\n",
            "69/69 [==============================] - 4s 52ms/step - loss: 0.3530 - accuracy: 0.8972 - val_loss: 0.7660 - val_accuracy: 0.6145\n",
            "Epoch 10/50\n",
            "69/69 [==============================] - 4s 52ms/step - loss: 0.3646 - accuracy: 0.8890 - val_loss: 0.7407 - val_accuracy: 0.5964\n",
            "Epoch 11/50\n",
            "69/69 [==============================] - 4s 51ms/step - loss: 0.3438 - accuracy: 0.8995 - val_loss: 0.7822 - val_accuracy: 0.6073\n",
            "Epoch 12/50\n",
            "69/69 [==============================] - 4s 52ms/step - loss: 0.3233 - accuracy: 0.9122 - val_loss: 0.8404 - val_accuracy: 0.6145\n",
            "Epoch 13/50\n",
            "69/69 [==============================] - 4s 52ms/step - loss: 0.3099 - accuracy: 0.9145 - val_loss: 0.8589 - val_accuracy: 0.6200\n",
            "Epoch 14/50\n",
            "69/69 [==============================] - 4s 52ms/step - loss: 0.2997 - accuracy: 0.9177 - val_loss: 0.7843 - val_accuracy: 0.5964\n",
            "Epoch 15/50\n",
            "69/69 [==============================] - 4s 52ms/step - loss: 0.3225 - accuracy: 0.9013 - val_loss: 0.7377 - val_accuracy: 0.6055\n",
            "Epoch 16/50\n",
            "69/69 [==============================] - 4s 53ms/step - loss: 0.3117 - accuracy: 0.9108 - val_loss: 0.8272 - val_accuracy: 0.6382\n",
            "Epoch 17/50\n",
            "69/69 [==============================] - 4s 53ms/step - loss: 0.2951 - accuracy: 0.9131 - val_loss: 0.8713 - val_accuracy: 0.6382\n",
            "Epoch 18/50\n",
            "69/69 [==============================] - 4s 52ms/step - loss: 0.2790 - accuracy: 0.9208 - val_loss: 0.8494 - val_accuracy: 0.6109\n",
            "Epoch 19/50\n",
            "69/69 [==============================] - 4s 52ms/step - loss: 0.2752 - accuracy: 0.9208 - val_loss: 0.8453 - val_accuracy: 0.6164\n",
            "Epoch 20/50\n",
            "69/69 [==============================] - 4s 53ms/step - loss: 0.2898 - accuracy: 0.9095 - val_loss: 0.9077 - val_accuracy: 0.6309\n",
            "Epoch 21/50\n",
            "69/69 [==============================] - 4s 52ms/step - loss: 0.2724 - accuracy: 0.9199 - val_loss: 0.8687 - val_accuracy: 0.6164\n",
            "Epoch 22/50\n",
            "69/69 [==============================] - 4s 52ms/step - loss: 0.2669 - accuracy: 0.9217 - val_loss: 0.7950 - val_accuracy: 0.6200\n",
            "Epoch 23/50\n",
            "69/69 [==============================] - 4s 52ms/step - loss: 0.2570 - accuracy: 0.9249 - val_loss: 0.9203 - val_accuracy: 0.6200\n",
            "Epoch 24/50\n",
            "69/69 [==============================] - 4s 56ms/step - loss: 0.2466 - accuracy: 0.9281 - val_loss: 0.9066 - val_accuracy: 0.6109\n",
            "Epoch 25/50\n",
            "69/69 [==============================] - 4s 52ms/step - loss: 0.2394 - accuracy: 0.9327 - val_loss: 1.0126 - val_accuracy: 0.6164\n",
            "Epoch 26/50\n",
            "69/69 [==============================] - 4s 51ms/step - loss: 0.3189 - accuracy: 0.9017 - val_loss: 0.8146 - val_accuracy: 0.5745\n",
            "Epoch 27/50\n",
            "69/69 [==============================] - 4s 52ms/step - loss: 0.2935 - accuracy: 0.9031 - val_loss: 0.8416 - val_accuracy: 0.6127\n",
            "Epoch 28/50\n",
            "69/69 [==============================] - 4s 52ms/step - loss: 0.2722 - accuracy: 0.9145 - val_loss: 0.8404 - val_accuracy: 0.6091\n",
            "Epoch 29/50\n",
            "69/69 [==============================] - 4s 53ms/step - loss: 0.2576 - accuracy: 0.9208 - val_loss: 0.8524 - val_accuracy: 0.5982\n",
            "Epoch 30/50\n",
            "69/69 [==============================] - 4s 52ms/step - loss: 0.2966 - accuracy: 0.8931 - val_loss: 0.8174 - val_accuracy: 0.6255\n",
            "Epoch 31/50\n",
            "69/69 [==============================] - 4s 51ms/step - loss: 0.2490 - accuracy: 0.9213 - val_loss: 0.9000 - val_accuracy: 0.6327\n",
            "Epoch 32/50\n",
            "69/69 [==============================] - 4s 52ms/step - loss: 0.2325 - accuracy: 0.9254 - val_loss: 0.8810 - val_accuracy: 0.6291\n",
            "Epoch 33/50\n",
            "69/69 [==============================] - 4s 54ms/step - loss: 0.2189 - accuracy: 0.9331 - val_loss: 1.0122 - val_accuracy: 0.6255\n",
            "Epoch 34/50\n",
            "69/69 [==============================] - 4s 52ms/step - loss: 0.2098 - accuracy: 0.9368 - val_loss: 1.0857 - val_accuracy: 0.6273\n",
            "Epoch 35/50\n",
            "69/69 [==============================] - 4s 53ms/step - loss: 0.2052 - accuracy: 0.9418 - val_loss: 1.0813 - val_accuracy: 0.6255\n",
            "Epoch 36/50\n",
            "69/69 [==============================] - 4s 53ms/step - loss: 0.2053 - accuracy: 0.9399 - val_loss: 0.9952 - val_accuracy: 0.6182\n",
            "Epoch 37/50\n",
            "69/69 [==============================] - 4s 54ms/step - loss: 0.2080 - accuracy: 0.9377 - val_loss: 1.0437 - val_accuracy: 0.6073\n",
            "Epoch 38/50\n",
            "69/69 [==============================] - 4s 53ms/step - loss: 0.2046 - accuracy: 0.9386 - val_loss: 1.0215 - val_accuracy: 0.6182\n",
            "Epoch 39/50\n",
            "69/69 [==============================] - 4s 53ms/step - loss: 0.1917 - accuracy: 0.9449 - val_loss: 1.0119 - val_accuracy: 0.6255\n",
            "Epoch 40/50\n",
            "69/69 [==============================] - 4s 55ms/step - loss: 0.1818 - accuracy: 0.9495 - val_loss: 1.1628 - val_accuracy: 0.6182\n",
            "Epoch 41/50\n",
            "69/69 [==============================] - 4s 53ms/step - loss: 0.1802 - accuracy: 0.9495 - val_loss: 1.2148 - val_accuracy: 0.6236\n",
            "Epoch 42/50\n",
            "69/69 [==============================] - 4s 52ms/step - loss: 0.1771 - accuracy: 0.9504 - val_loss: 1.1939 - val_accuracy: 0.6182\n",
            "Epoch 43/50\n",
            "69/69 [==============================] - 4s 53ms/step - loss: 0.1741 - accuracy: 0.9509 - val_loss: 1.1577 - val_accuracy: 0.6236\n",
            "Epoch 44/50\n",
            "69/69 [==============================] - 4s 53ms/step - loss: 0.1724 - accuracy: 0.9513 - val_loss: 1.2522 - val_accuracy: 0.6255\n",
            "Epoch 45/50\n",
            "69/69 [==============================] - 4s 53ms/step - loss: 0.1714 - accuracy: 0.9513 - val_loss: 1.2811 - val_accuracy: 0.6236\n",
            "Epoch 46/50\n",
            "69/69 [==============================] - 4s 54ms/step - loss: 0.1705 - accuracy: 0.9513 - val_loss: 1.3086 - val_accuracy: 0.6255\n",
            "Epoch 47/50\n",
            "69/69 [==============================] - 4s 54ms/step - loss: 0.1698 - accuracy: 0.9513 - val_loss: 1.3242 - val_accuracy: 0.6255\n",
            "Epoch 48/50\n",
            "69/69 [==============================] - 4s 53ms/step - loss: 0.1692 - accuracy: 0.9513 - val_loss: 1.3369 - val_accuracy: 0.6273\n",
            "Epoch 49/50\n",
            "69/69 [==============================] - 4s 54ms/step - loss: 0.1688 - accuracy: 0.9513 - val_loss: 1.3399 - val_accuracy: 0.6182\n",
            "Epoch 50/50\n",
            "69/69 [==============================] - 4s 54ms/step - loss: 0.1684 - accuracy: 0.9513 - val_loss: 1.3588 - val_accuracy: 0.6182\n"
          ],
          "name": "stdout"
        }
      ]
    },
    {
      "cell_type": "code",
      "metadata": {
        "colab": {
          "base_uri": "https://localhost:8080/",
          "height": 542
        },
        "id": "k2-gTFNLOh2t",
        "outputId": "f8710ad4-bc65-425e-978f-55f90030589d"
      },
      "source": [
        "# Plotting the accuracy and loss\n",
        "def plot_graphs(history, string):\n",
        "        plt.plot(history.history[string])\n",
        "        plt.plot(history.history['val_'+string])\n",
        "        plt.xlabel(\"Epochs\")\n",
        "        plt.ylabel(string)\n",
        "        plt.legend([string, 'val_'+string])\n",
        "        plt.show()\n",
        "\n",
        "plot_graphs(history, \"accuracy\")\n",
        "plot_graphs(history, \"loss\")"
      ],
      "execution_count": 36,
      "outputs": [
        {
          "output_type": "display_data",
          "data": {
            "image/png": "[encoded data removed]",
            "text/plain": [
              "<Figure size 432x288 with 1 Axes>"
            ]
          },
          "metadata": {
            "tags": [],
            "needs_background": "light"
          }
        },
        {
          "output_type": "display_data",
          "data": {
            "image/png": "[encoded data removed]",
            "text/plain": [
              "<Figure size 432x288 with 1 Axes>"
            ]
          },
          "metadata": {
            "tags": [],
            "needs_background": "light"
          }
        }
      ]
    },
    {
      "cell_type": "markdown",
      "metadata": {
        "id": "couR6aEKOuoE"
      },
      "source": [
        "## Define a function to predict the sentiment of reviews "
      ]
    },
    {
      "cell_type": "code",
      "metadata": {
        "id": "QHG9XWEMSEPn"
      },
      "source": [
        "def predict_review(model, new_sentences, maxlen=max_length, show_padded_sequence=True ):\n",
        "    # Keep the original sentences so that we can keep using them later\n",
        "    # Create an array to hold the encoded sequences\n",
        "    new_sequences = []\n",
        "\n",
        "    # Convert the new reviews to sequences\n",
        "    for i, frvw in enumerate(new_sentences):\n",
        "        new_sequences.append(tokenizer.encode(frvw))\n",
        "\n",
        "    trunc_type='post' \n",
        "    padding_type='post'\n",
        "\n",
        "    # Pad all sequences for the new reviews\n",
        "    new_reviews_padded = pad_sequences(new_sequences, maxlen=max_length, \n",
        "                                 padding=padding_type, truncating=trunc_type)             \n",
        "\n",
        "    classes = model.predict(new_reviews_padded)\n",
        "\n",
        "    # The closer the class is to 1, the more positive the review is\n",
        "    for x in range(len(new_sentences)):\n",
        "\n",
        "        # We can see the padded sequence if desired\n",
        "        # Print the sequence\n",
        "        if (show_padded_sequence):\n",
        "              print(new_reviews_padded[x])\n",
        "        # Print the review as text\n",
        "        print(new_sentences[x])\n",
        "        # Print its predicted class\n",
        "        print(classes[x])\n",
        "        print(\"\\n\")"
      ],
      "execution_count": 37,
      "outputs": []
    },
    {
      "cell_type": "code",
      "metadata": {
        "colab": {
          "base_uri": "https://localhost:8080/"
        },
        "id": "4CJKsPUcSMIi",
        "outputId": "4a8e8b05-1d18-4e80-f03e-00c3e5177462"
      },
      "source": [
        "# The higher the sentiment value is to 1, the more positive the review is.\n",
        "# Use the model to predict some reviews   \n",
        "fake_reviews = [\"I love this phone\", \n",
        "                \"Everything was cold\",\n",
        "                \"Everything was hot exactly as I wanted\", \n",
        "                \"Everything was green\", \n",
        "                \"the host seated us immediately\",\n",
        "                \"they gave us free chocolate cake\", \n",
        "                \"we couldn't hear each other talk because of the shouting in the kitchen\"\n",
        "              ]\n",
        "\n",
        "predict_review(model, fake_reviews)"
      ],
      "execution_count": 38,
      "outputs": [
        {
          "output_type": "stream",
          "text": [
            "[  6 370  16  42   0   0   0   0   0   0   0   0   0   0   0   0   0   0\n",
            "   0   0   0   0   0   0   0   0   0   0   0   0   0   0   0   0   0   0\n",
            "   0   0   0   0   0   0   0   0   0   0   0   0   0   0]\n",
            "I love this phone\n",
            "[0.99972665]\n",
            "\n",
            "\n",
            "[665 432 101 774  13 108 280   0   0   0   0   0   0   0   0   0   0   0\n",
            "   0   0   0   0   0   0   0   0   0   0   0   0   0   0   0   0   0   0\n",
            "   0   0   0   0   0   0   0   0   0   0   0   0   0   0]\n",
            "Everything was cold\n",
            "[0.99976087]\n",
            "\n",
            "\n",
            "[665 432 101 774  13 135   8 147 173  22  45   6 540  71   0   0   0   0\n",
            "   0   0   0   0   0   0   0   0   0   0   0   0   0   0   0   0   0   0\n",
            "   0   0   0   0   0   0   0   0   0   0   0   0   0   0]\n",
            "Everything was hot exactly as I wanted\n",
            "[0.99922156]\n",
            "\n",
            "\n",
            "[665 432 101 774  13 190 240 852   0   0   0   0   0   0   0   0   0   0\n",
            "   0   0   0   0   0   0   0   0   0   0   0   0   0   0   0   0   0   0\n",
            "   0   0   0   0   0   0   0   0   0   0   0   0   0   0]\n",
            "Everything was green\n",
            "[0.12084681]\n",
            "\n",
            "\n",
            "[  1 135 149  39 178  14 524 205 603 393 648 863   0   0   0   0   0   0\n",
            "   0   0   0   0   0   0   0   0   0   0   0   0   0   0   0   0   0   0\n",
            "   0   0   0   0   0   0   0   0   0   0   0   0   0   0]\n",
            "the host seated us immediately\n",
            "[0.9994563]\n",
            "\n",
            "\n",
            "[200 117  73 524 528  17 327 853 108  47 180 195 129   0   0   0   0   0\n",
            "   0   0   0   0   0   0   0   0   0   0   0   0   0   0   0   0   0   0\n",
            "   0   0   0   0   0   0   0   0   0   0   0   0   0   0]\n",
            "they gave us free chocolate cake\n",
            "[0.9996201]\n",
            "\n",
            "\n",
            "[289 209 852 781   8 335  25 177 250 161 774 290 123 284  72  12   1 168\n",
            " 187  20  19   1 489 858 171 852   0   0   0   0   0   0   0   0   0   0\n",
            "   0   0   0   0   0   0   0   0   0   0   0   0   0   0]\n",
            "we couldn't hear each other talk because of the shouting in the kitchen\n",
            "[0.12084681]\n",
            "\n",
            "\n"
          ],
          "name": "stdout"
        }
      ]
    }
  ]
}